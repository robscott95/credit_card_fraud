{
 "cells": [
  {
   "cell_type": "markdown",
   "metadata": {},
   "source": [
    "# Review of classifiers using resampling based techniques.\n",
    "\n",
    "The data I will use is in the `data/processed_dataset.joblib` which is a dictionary holding tuples of train and test set.\n",
    "The data was preprocessed in the `0.2-data_prep.ipynb` notebook.\n",
    "\n",
    "I'm going to go with (based off of the research found in `0.0-literature_research.md` file) these classifiers:\n",
    "1. XGBoost\n",
    "2. RandomForest\n",
    "3. SVC\n",
    "4. Logistic Regression with regularization\n",
    "\n",
    "*NOTE*: SVC and Logistic Regression will be ran via a Stochastic Gradient Descent classifier due to the amount of data that it needs to sift through. Especially with the Random Search. It might be a good idea to see if those models, using their batch counterparts will perform better (without Random Search though).\n",
    "\n",
    "With these sampling based methods (for fixing imbalance):\n",
    "1. SMOTE+ENN\n",
    "2. SMOTE+Tomek Links\n",
    "3. ADASYN\n",
    "\n",
    "And also Cost-sensitive learning based methods, for increasing the weight of misclassyfing the positive class.\n",
    "\n",
    "I'm going to use those metrics to evaluate performance:\n",
    "1. F1\n",
    "2. Precision\n",
    "3. Recall\n",
    "4. Precision-Recall curve \n",
    "5. Average Precision score\n",
    "    * Which is the AUC of the PR curve.\n",
    "\n",
    "My first step will be to run a RandomSearchCV that will allow me to \"quickly\" find best hyperparameters. Then, I'm going to take 2-3 top models and see their learning curves to discover, if any tweaks regarding over- and underfitting may be done.\n",
    "I'm also going to compare the average performance of those 3 sampling methods, by taking the top 3 models in each category and plotting it side by side.\n",
    "\n",
    "*NOTE*: I'm gonna use imbalanced-learn pipeline as this is capable of properly applying the resampling methods on the test sets in CV.\n",
    "\n",
    "### Summary:\n",
    "* **The winner is Random Forest with SMOTETomek sampling** (based on the AUC of PR)"
   ]
  },
  {
   "cell_type": "code",
   "execution_count": 146,
   "metadata": {},
   "outputs": [],
   "source": [
    "import pandas as pd\n",
    "import matplotlib.pyplot as plt\n",
    "import seaborn as sns\n",
    "from joblib import dump, load\n",
    "import numpy as np\n",
    "import scipy\n",
    "\n",
    "from sklearn.model_selection import RandomizedSearchCV\n",
    "from sklearn.model_selection import learning_curve\n",
    "from imblearn.pipeline import make_pipeline as imb_make_pipeline\n",
    "\n",
    "from imblearn.combine import SMOTEENN, SMOTETomek\n",
    "from imblearn.over_sampling import ADASYN\n",
    "\n",
    "from xgboost import XGBClassifier\n",
    "from sklearn.ensemble import RandomForestClassifier\n",
    "from sklearn.svm import SVC\n",
    "from sklearn.linear_model import SGDClassifier\n",
    "from sklearn.kernel_approximation import Nystroem\n",
    "\n",
    "from sklearn.metrics import (\n",
    "    precision_score, recall_score, precision_recall_curve, f1_score, \n",
    "    zero_one_loss, average_precision_score, auc\n",
    ")\n",
    "from sklearn.metrics import make_scorer\n",
    "\n",
    "RANDOM_STATE = 42"
   ]
  },
  {
   "cell_type": "code",
   "execution_count": 2,
   "metadata": {},
   "outputs": [],
   "source": [
    "data_dict = load(\"data/processed_dataset.joblib\")\n",
    "X_train = data_dict[\"training\"][0].values\n",
    "y_train = np.ravel(data_dict[\"training\"][1])"
   ]
  },
  {
   "cell_type": "code",
   "execution_count": 3,
   "metadata": {},
   "outputs": [],
   "source": [
    "from collections import namedtuple\n",
    "\n",
    "# Instantiate the metrics we're gonna use in randomized search\n",
    "scorers = (\"precision\", \"recall\", \"f1\", \"roc_auc\")\n",
    "\n",
    "Classifier = namedtuple(\"Classifier\", [\"name\", \"model\", \"params\"])\n",
    "Sampler = namedtuple(\"Sampler\", [\"name\", \"model\"])\n",
    "\n",
    "# Instantiate classifiers in a list for iterating over it\n",
    "classifiers = [\n",
    "    # Both svc and log are based off of the SGD classifier.\n",
    "    Classifier(\n",
    "        name = \"svc\", \n",
    "        model = SGDClassifier(random_state=RANDOM_STATE, max_iter=1000, verbose=False),\n",
    "        params = {\n",
    "            \"sgdclassifier__loss\": [\"hinge\", \"modified_huber\", \"squared_hinge\"],\n",
    "            \"sgdclassifier__penalty\": [\"elasticnet\", \"l2\", \"l1\"],\n",
    "            \"sgdclassifier__alpha\": scipy.stats.expon(scale=0.01),\n",
    "            \"sgdclassifier__l1_ratio\": scipy.stats.uniform(0, 0.5),\n",
    "            # SVC will use Nystroem for kernel approx.\n",
    "            \"nystroem__kernel\": [\"rbf\", \"polynomial\"],\n",
    "            \"nystroem__n_components\": [100, 200, 400, 600],\n",
    "            \"nystroem__degree\": [1,2,3,4,5]\n",
    "        }\n",
    "    ),\n",
    "    Classifier(\n",
    "        name = \"log\",\n",
    "        model = SGDClassifier(loss=\"log\", random_state=RANDOM_STATE, \n",
    "                              max_iter=1000, verbose=False),\n",
    "        params = {\n",
    "            \"sgdclassifier__penalty\": [\"elasticnet\", \"l2\", \"l1\"],\n",
    "            \"sgdclassifier__alpha\": [0.0001, 0.0005, 0.001, 0.002],\n",
    "            \"sgdclassifier__l1_ratio\": scipy.stats.uniform(0, 0.5)\n",
    "        }\n",
    "    ),\n",
    "    Classifier(\n",
    "        name = \"rf\",\n",
    "        model = RandomForestClassifier(n_jobs=-1, random_state=RANDOM_STATE, verbose=False),\n",
    "        params = {\n",
    "            \"randomforestclassifier__n_estimators\": [10, 100, 400, 800],\n",
    "            \"randomforestclassifier__criterion\": [\"gini\", \"entropy\"],\n",
    "            \"randomforestclassifier__min_samples_split\": [2, 4, 8],\n",
    "        }\n",
    "    ),\n",
    "    Classifier(\n",
    "        name = \"xgboost\",\n",
    "        model = XGBClassifier(n_jobs=-1, random_state=RANDOM_STATE, verbosity=0),\n",
    "        params = {\n",
    "            \"xgbclassifier__max_depth\": [3,6,8,12],\n",
    "            \"xgbclassifier__learning_rate\": [0.1, 0.25, 0.5],\n",
    "            \"xgbclassifier__booster\": [\"gbtree\", \"gblinear\", \"dart\"],\n",
    "            \"xgbclassifier__n_estimators\": [100, 400, 800],\n",
    "            \"xgbclassifier__reg_alpha\": [0, 0.1, 0.25, 0.5, 0.75, 1],\n",
    "            \"xgbclassifier__reg_lambda\": [0, 0.1, 0.25, 0.5, 0.75, 1],\n",
    "            \"xgbclassifier__min_child_weight\": [0.5,1,2,4,8,10]\n",
    "        }\n",
    "    )\n",
    "]\n",
    "\n",
    "sampling_methods = [\n",
    "    Sampler(name=\"smoteenn\", model=SMOTEENN(n_jobs=-1, random_state=RANDOM_STATE)),\n",
    "    Sampler(name=\"smotetomek\", model=SMOTETomek(n_jobs=-1, random_state=RANDOM_STATE)),\n",
    "    Sampler(name=\"adasyn\", model=ADASYN(n_jobs=-1, random_state=RANDOM_STATE))\n",
    "]\n",
    "\n",
    "feature_map_nystroem = Nystroem(random_state=RANDOM_STATE)"
   ]
  },
  {
   "cell_type": "code",
   "execution_count": 4,
   "metadata": {},
   "outputs": [],
   "source": [
    "# random_search_results = {}\n",
    "random_search_results = load(\"data/random_search_results.joblib\")"
   ]
  },
  {
   "cell_type": "markdown",
   "metadata": {
    "toc-hr-collapsed": true
   },
   "source": [
    "# Sampling methods"
   ]
  },
  {
   "cell_type": "markdown",
   "metadata": {},
   "source": [
    "## Training"
   ]
  },
  {
   "cell_type": "code",
   "execution_count": 5,
   "metadata": {},
   "outputs": [
    {
     "name": "stdout",
     "output_type": "stream",
     "text": [
      "+++++++++++++++++++++\n",
      "Sampling with: smoteenn\n",
      "+++++++++++++++++++++\n",
      "Sampling with: smotetomek\n",
      "Adding Nystroem kernel approximation...\n",
      "Starting svc...\n",
      "Finished svc...\n",
      "----------------\n",
      "Starting log...\n",
      "Finished log...\n",
      "----------------\n",
      "Starting rf...\n",
      "Finished rf...\n",
      "----------------\n",
      "Starting xgboost...\n",
      "Finished xgboost...\n",
      "----------------\n",
      "+++++++++++++++++++++\n",
      "Sampling with: adasyn\n",
      "Adding Nystroem kernel approximation...\n",
      "Starting svc...\n",
      "Finished svc...\n",
      "----------------\n",
      "Starting log...\n",
      "Finished log...\n",
      "----------------\n",
      "Starting rf...\n",
      "Finished rf...\n",
      "----------------\n",
      "Starting xgboost...\n",
      "Finished xgboost...\n",
      "----------------\n"
     ]
    },
    {
     "data": {
      "text/plain": [
       "['data/random_search_results.joblib']"
      ]
     },
     "execution_count": 5,
     "metadata": {},
     "output_type": "execute_result"
    }
   ],
   "source": [
    "# Iterate over all models and save output to a dict for later review and comparison\n",
    "# We're going also to review the best models' (2-3) learning curves for finding any easy fixes.\n",
    "for sampler in sampling_methods:\n",
    "    print(\"+++++++++++++++++++++\")\n",
    "    print(f\"Sampling with: {sampler.name}\")\n",
    "    \n",
    "    # I've had to redo the iteration after smoteenn due to some bugs.\n",
    "    # that's why I'm skipping it here.\n",
    "    if sampler.name == \"smoteenn\":\n",
    "        continue\n",
    "    \n",
    "    for clf in classifiers:\n",
    "        \n",
    "        imb_pipeline = imb_make_pipeline(\n",
    "                sampler.model,\n",
    "                clf.model, \n",
    "                memory=\"temp\"\n",
    "            )\n",
    "\n",
    "        if any(\"nystroem__\" in name for name in clf.params):\n",
    "            print(\"Adding Nystroem kernel approximation...\")\n",
    "            imb_pipeline.steps.insert(1, (\"nystroem\", feature_map_nystroem))\n",
    "\n",
    "        random_search = RandomizedSearchCV(\n",
    "            imb_pipeline, \n",
    "            clf.params, \n",
    "            # Due to the amount of time it is required to compute\n",
    "            # XGBoost, I'm halfing the n_iter.\n",
    "            # Less comprehensive, but need to speed up stuff.\n",
    "            n_iter=10, \n",
    "            refit=\"f1\", \n",
    "            scoring=scorers,\n",
    "            n_jobs=10,  \n",
    "            iid=False, \n",
    "            cv=5, \n",
    "            verbose=False,\n",
    "            random_state=RANDOM_STATE\n",
    "        )\n",
    "\n",
    "        print(f\"Starting {clf.name}...\")\n",
    "        random_search.fit(X_train, y_train)\n",
    "\n",
    "        random_search_results.setdefault(sampler.name, {})[clf.name] = random_search\n",
    "        # Intermediate dumps, just for when something goes wrong and we don't\n",
    "        # want to repeat the whole thing.\n",
    "        dump(random_search_results, \"data/random_search_results.joblib\")\n",
    "\n",
    "        print(f\"Finished {clf.name}...\")\n",
    "        print(\"----------------\")\n",
    "    \n",
    "dump(random_search_results, \"data/random_search_results.joblib\")"
   ]
  },
  {
   "cell_type": "markdown",
   "metadata": {},
   "source": [
    "## Evaluating the models\n",
    "For simplicity's sake, I'm gonna take the top 3 models from each category (sampling method x model) and focus on the F1 score, which balances the Precision and Recall.\n",
    "\n",
    "NOTE(s): \n",
    "* While testing the difference between SGDClassifier and normal SVC, I've found out that SVC significantly outperforms the SGDClassifier with kernel approximations. I've forfeited the normal SVC for RandomSearchCV  due to the time it required to train, but it'd be good to compare those two at later date. The reason for this difference might be the kernel approximation (maybe it needs more testing?)\n",
    "* I also understand that SGDClassifier is much more sensitive to having properly scaled (mean 0 and std of 1) features. The only feature here that isn't scaled that way is `Time` which is scaled with a MinMaxScaler. Not sure if solely this can account for such a drastic difference in performance.\n"
   ]
  },
  {
   "cell_type": "code",
   "execution_count": 39,
   "metadata": {},
   "outputs": [],
   "source": [
    "samplers_x_model_performance_list = []\n",
    "for sampler in random_search_results.keys():\n",
    "    for model in random_search_results[sampler].keys():\n",
    "        \n",
    "        temp_df = pd.DataFrame(random_search_results[sampler][model].cv_results_)[\n",
    "            [\"params\",\n",
    "             \"mean_test_f1\", \n",
    "             \"std_test_f1\", \n",
    "             \"mean_test_precision\", \n",
    "             \"mean_test_recall\", \n",
    "             \"mean_test_roc_auc\"]\n",
    "        ] \\\n",
    "        .sort_values(\"mean_test_f1\", ascending=False) \\\n",
    "        .head(3) \\\n",
    "        \n",
    "        temp_df.insert(0, \"sampler\", sampler)\n",
    "        temp_df.insert(1, \"model\", model)\n",
    "        \n",
    "        samplers_x_model_performance_list.append(temp_df)\n",
    "\n",
    "top_performers_df = samplers_x_model_performance_list.pop(0)\n",
    "top_performers_df = top_performers_df.append(samplers_x_model_performance_list)"
   ]
  },
  {
   "cell_type": "code",
   "execution_count": 40,
   "metadata": {},
   "outputs": [
    {
     "data": {
      "text/html": [
       "<div>\n",
       "<style scoped>\n",
       "    .dataframe tbody tr th:only-of-type {\n",
       "        vertical-align: middle;\n",
       "    }\n",
       "\n",
       "    .dataframe tbody tr th {\n",
       "        vertical-align: top;\n",
       "    }\n",
       "\n",
       "    .dataframe thead th {\n",
       "        text-align: right;\n",
       "    }\n",
       "</style>\n",
       "<table border=\"1\" class=\"dataframe\">\n",
       "  <thead>\n",
       "    <tr style=\"text-align: right;\">\n",
       "      <th></th>\n",
       "      <th>sampler</th>\n",
       "      <th>model</th>\n",
       "      <th>params</th>\n",
       "      <th>mean_test_f1</th>\n",
       "      <th>std_test_f1</th>\n",
       "      <th>mean_test_precision</th>\n",
       "      <th>mean_test_recall</th>\n",
       "      <th>mean_test_roc_auc</th>\n",
       "    </tr>\n",
       "  </thead>\n",
       "  <tbody>\n",
       "    <tr>\n",
       "      <th>12</th>\n",
       "      <td>smoteenn</td>\n",
       "      <td>svc</td>\n",
       "      <td>{'nystroem__degree': 4, 'nystroem__kernel': 'p...</td>\n",
       "      <td>0.279884</td>\n",
       "      <td>0.042804</td>\n",
       "      <td>0.167214</td>\n",
       "      <td>0.882912</td>\n",
       "      <td>0.958846</td>\n",
       "    </tr>\n",
       "    <tr>\n",
       "      <th>2</th>\n",
       "      <td>smoteenn</td>\n",
       "      <td>svc</td>\n",
       "      <td>{'nystroem__degree': 5, 'nystroem__kernel': 'p...</td>\n",
       "      <td>0.250992</td>\n",
       "      <td>0.089855</td>\n",
       "      <td>0.150998</td>\n",
       "      <td>0.890947</td>\n",
       "      <td>0.955923</td>\n",
       "    </tr>\n",
       "    <tr>\n",
       "      <th>4</th>\n",
       "      <td>smoteenn</td>\n",
       "      <td>svc</td>\n",
       "      <td>{'nystroem__degree': 2, 'nystroem__kernel': 'p...</td>\n",
       "      <td>0.188201</td>\n",
       "      <td>0.127690</td>\n",
       "      <td>0.112449</td>\n",
       "      <td>0.848351</td>\n",
       "      <td>0.928543</td>\n",
       "    </tr>\n",
       "    <tr>\n",
       "      <th>13</th>\n",
       "      <td>smoteenn</td>\n",
       "      <td>log</td>\n",
       "      <td>{'sgdclassifier__alpha': 0.03370630342461173, ...</td>\n",
       "      <td>0.168904</td>\n",
       "      <td>0.010811</td>\n",
       "      <td>0.093296</td>\n",
       "      <td>0.898877</td>\n",
       "      <td>0.976681</td>\n",
       "    </tr>\n",
       "    <tr>\n",
       "      <th>19</th>\n",
       "      <td>smoteenn</td>\n",
       "      <td>log</td>\n",
       "      <td>{'sgdclassifier__alpha': 0.03492807132736227, ...</td>\n",
       "      <td>0.153781</td>\n",
       "      <td>0.011486</td>\n",
       "      <td>0.084249</td>\n",
       "      <td>0.896246</td>\n",
       "      <td>0.975838</td>\n",
       "    </tr>\n",
       "    <tr>\n",
       "      <th>1</th>\n",
       "      <td>smoteenn</td>\n",
       "      <td>log</td>\n",
       "      <td>{'sgdclassifier__alpha': 0.015127241738646855,...</td>\n",
       "      <td>0.139052</td>\n",
       "      <td>0.009479</td>\n",
       "      <td>0.075423</td>\n",
       "      <td>0.901579</td>\n",
       "      <td>0.973946</td>\n",
       "    </tr>\n",
       "    <tr>\n",
       "      <th>13</th>\n",
       "      <td>smoteenn</td>\n",
       "      <td>rf</td>\n",
       "      <td>{'randomforestclassifier__n_estimators': 800, ...</td>\n",
       "      <td>0.844859</td>\n",
       "      <td>0.038171</td>\n",
       "      <td>0.859800</td>\n",
       "      <td>0.832491</td>\n",
       "      <td>0.981860</td>\n",
       "    </tr>\n",
       "    <tr>\n",
       "      <th>9</th>\n",
       "      <td>smoteenn</td>\n",
       "      <td>rf</td>\n",
       "      <td>{'randomforestclassifier__n_estimators': 100, ...</td>\n",
       "      <td>0.843065</td>\n",
       "      <td>0.038986</td>\n",
       "      <td>0.859024</td>\n",
       "      <td>0.829825</td>\n",
       "      <td>0.970792</td>\n",
       "    </tr>\n",
       "    <tr>\n",
       "      <th>10</th>\n",
       "      <td>smoteenn</td>\n",
       "      <td>rf</td>\n",
       "      <td>{'randomforestclassifier__n_estimators': 400, ...</td>\n",
       "      <td>0.842058</td>\n",
       "      <td>0.040173</td>\n",
       "      <td>0.857182</td>\n",
       "      <td>0.829825</td>\n",
       "      <td>0.982028</td>\n",
       "    </tr>\n",
       "    <tr>\n",
       "      <th>3</th>\n",
       "      <td>smoteenn</td>\n",
       "      <td>xgboost</td>\n",
       "      <td>{'xgbclassifier__reg_lambda': 1, 'xgbclassifie...</td>\n",
       "      <td>0.791493</td>\n",
       "      <td>0.028085</td>\n",
       "      <td>0.748082</td>\n",
       "      <td>0.843123</td>\n",
       "      <td>0.975839</td>\n",
       "    </tr>\n",
       "    <tr>\n",
       "      <th>6</th>\n",
       "      <td>smoteenn</td>\n",
       "      <td>xgboost</td>\n",
       "      <td>{'xgbclassifier__reg_lambda': 0.25, 'xgbclassi...</td>\n",
       "      <td>0.783364</td>\n",
       "      <td>0.026060</td>\n",
       "      <td>0.743384</td>\n",
       "      <td>0.832526</td>\n",
       "      <td>0.973766</td>\n",
       "    </tr>\n",
       "    <tr>\n",
       "      <th>1</th>\n",
       "      <td>smoteenn</td>\n",
       "      <td>xgboost</td>\n",
       "      <td>{'xgbclassifier__reg_lambda': 0.25, 'xgbclassi...</td>\n",
       "      <td>0.779699</td>\n",
       "      <td>0.029425</td>\n",
       "      <td>0.731980</td>\n",
       "      <td>0.837825</td>\n",
       "      <td>0.976903</td>\n",
       "    </tr>\n",
       "    <tr>\n",
       "      <th>2</th>\n",
       "      <td>smotetomek</td>\n",
       "      <td>svc</td>\n",
       "      <td>{'nystroem__degree': 5, 'nystroem__kernel': 'p...</td>\n",
       "      <td>0.255502</td>\n",
       "      <td>0.080891</td>\n",
       "      <td>0.152301</td>\n",
       "      <td>0.867018</td>\n",
       "      <td>0.957326</td>\n",
       "    </tr>\n",
       "    <tr>\n",
       "      <th>9</th>\n",
       "      <td>smotetomek</td>\n",
       "      <td>svc</td>\n",
       "      <td>{'nystroem__degree': 2, 'nystroem__kernel': 'p...</td>\n",
       "      <td>0.166491</td>\n",
       "      <td>0.016754</td>\n",
       "      <td>0.092352</td>\n",
       "      <td>0.872316</td>\n",
       "      <td>0.950418</td>\n",
       "    </tr>\n",
       "    <tr>\n",
       "      <th>8</th>\n",
       "      <td>smotetomek</td>\n",
       "      <td>svc</td>\n",
       "      <td>{'nystroem__degree': 4, 'nystroem__kernel': 'r...</td>\n",
       "      <td>0.082059</td>\n",
       "      <td>0.006171</td>\n",
       "      <td>0.042979</td>\n",
       "      <td>0.912140</td>\n",
       "      <td>0.974411</td>\n",
       "    </tr>\n",
       "    <tr>\n",
       "      <th>8</th>\n",
       "      <td>smotetomek</td>\n",
       "      <td>log</td>\n",
       "      <td>{'sgdclassifier__alpha': 0.0001, 'sgdclassifie...</td>\n",
       "      <td>0.127370</td>\n",
       "      <td>0.010714</td>\n",
       "      <td>0.068613</td>\n",
       "      <td>0.901579</td>\n",
       "      <td>0.965877</td>\n",
       "    </tr>\n",
       "    <tr>\n",
       "      <th>7</th>\n",
       "      <td>smotetomek</td>\n",
       "      <td>log</td>\n",
       "      <td>{'sgdclassifier__alpha': 0.0001, 'sgdclassifie...</td>\n",
       "      <td>0.126802</td>\n",
       "      <td>0.009555</td>\n",
       "      <td>0.068292</td>\n",
       "      <td>0.898912</td>\n",
       "      <td>0.966018</td>\n",
       "    </tr>\n",
       "    <tr>\n",
       "      <th>9</th>\n",
       "      <td>smotetomek</td>\n",
       "      <td>log</td>\n",
       "      <td>{'sgdclassifier__alpha': 0.001, 'sgdclassifier...</td>\n",
       "      <td>0.119481</td>\n",
       "      <td>0.009477</td>\n",
       "      <td>0.064040</td>\n",
       "      <td>0.898912</td>\n",
       "      <td>0.969567</td>\n",
       "    </tr>\n",
       "    <tr>\n",
       "      <th>8</th>\n",
       "      <td>smotetomek</td>\n",
       "      <td>rf</td>\n",
       "      <td>{'randomforestclassifier__n_estimators': 100, ...</td>\n",
       "      <td>0.871733</td>\n",
       "      <td>0.042265</td>\n",
       "      <td>0.920992</td>\n",
       "      <td>0.829860</td>\n",
       "      <td>0.974374</td>\n",
       "    </tr>\n",
       "    <tr>\n",
       "      <th>3</th>\n",
       "      <td>smotetomek</td>\n",
       "      <td>rf</td>\n",
       "      <td>{'randomforestclassifier__n_estimators': 400, ...</td>\n",
       "      <td>0.869219</td>\n",
       "      <td>0.040753</td>\n",
       "      <td>0.915280</td>\n",
       "      <td>0.829860</td>\n",
       "      <td>0.979592</td>\n",
       "    </tr>\n",
       "    <tr>\n",
       "      <th>6</th>\n",
       "      <td>smotetomek</td>\n",
       "      <td>rf</td>\n",
       "      <td>{'randomforestclassifier__n_estimators': 100, ...</td>\n",
       "      <td>0.865082</td>\n",
       "      <td>0.041048</td>\n",
       "      <td>0.909377</td>\n",
       "      <td>0.827193</td>\n",
       "      <td>0.975359</td>\n",
       "    </tr>\n",
       "    <tr>\n",
       "      <th>3</th>\n",
       "      <td>smotetomek</td>\n",
       "      <td>xgboost</td>\n",
       "      <td>{'xgbclassifier__reg_lambda': 1, 'xgbclassifie...</td>\n",
       "      <td>0.841549</td>\n",
       "      <td>0.034511</td>\n",
       "      <td>0.864063</td>\n",
       "      <td>0.824491</td>\n",
       "      <td>0.975341</td>\n",
       "    </tr>\n",
       "    <tr>\n",
       "      <th>1</th>\n",
       "      <td>smotetomek</td>\n",
       "      <td>xgboost</td>\n",
       "      <td>{'xgbclassifier__reg_lambda': 0.25, 'xgbclassi...</td>\n",
       "      <td>0.835806</td>\n",
       "      <td>0.010369</td>\n",
       "      <td>0.849049</td>\n",
       "      <td>0.829860</td>\n",
       "      <td>0.978407</td>\n",
       "    </tr>\n",
       "    <tr>\n",
       "      <th>6</th>\n",
       "      <td>smotetomek</td>\n",
       "      <td>xgboost</td>\n",
       "      <td>{'xgbclassifier__reg_lambda': 0.25, 'xgbclassi...</td>\n",
       "      <td>0.830238</td>\n",
       "      <td>0.020573</td>\n",
       "      <td>0.830549</td>\n",
       "      <td>0.835123</td>\n",
       "      <td>0.977189</td>\n",
       "    </tr>\n",
       "    <tr>\n",
       "      <th>5</th>\n",
       "      <td>adasyn</td>\n",
       "      <td>svc</td>\n",
       "      <td>{'nystroem__degree': 3, 'nystroem__kernel': 'p...</td>\n",
       "      <td>0.114744</td>\n",
       "      <td>0.102237</td>\n",
       "      <td>0.066689</td>\n",
       "      <td>0.829684</td>\n",
       "      <td>0.909975</td>\n",
       "    </tr>\n",
       "    <tr>\n",
       "      <th>9</th>\n",
       "      <td>adasyn</td>\n",
       "      <td>svc</td>\n",
       "      <td>{'nystroem__degree': 2, 'nystroem__kernel': 'p...</td>\n",
       "      <td>0.085582</td>\n",
       "      <td>0.017159</td>\n",
       "      <td>0.045183</td>\n",
       "      <td>0.874912</td>\n",
       "      <td>0.952043</td>\n",
       "    </tr>\n",
       "    <tr>\n",
       "      <th>7</th>\n",
       "      <td>adasyn</td>\n",
       "      <td>svc</td>\n",
       "      <td>{'nystroem__degree': 2, 'nystroem__kernel': 'r...</td>\n",
       "      <td>0.078509</td>\n",
       "      <td>0.008076</td>\n",
       "      <td>0.041635</td>\n",
       "      <td>0.702211</td>\n",
       "      <td>0.960054</td>\n",
       "    </tr>\n",
       "    <tr>\n",
       "      <th>0</th>\n",
       "      <td>adasyn</td>\n",
       "      <td>log</td>\n",
       "      <td>{'sgdclassifier__alpha': 0.001, 'sgdclassifier...</td>\n",
       "      <td>0.040003</td>\n",
       "      <td>0.004177</td>\n",
       "      <td>0.020450</td>\n",
       "      <td>0.933474</td>\n",
       "      <td>0.969118</td>\n",
       "    </tr>\n",
       "    <tr>\n",
       "      <th>2</th>\n",
       "      <td>adasyn</td>\n",
       "      <td>log</td>\n",
       "      <td>{'sgdclassifier__alpha': 0.001, 'sgdclassifier...</td>\n",
       "      <td>0.040003</td>\n",
       "      <td>0.004177</td>\n",
       "      <td>0.020450</td>\n",
       "      <td>0.933474</td>\n",
       "      <td>0.969118</td>\n",
       "    </tr>\n",
       "    <tr>\n",
       "      <th>4</th>\n",
       "      <td>adasyn</td>\n",
       "      <td>log</td>\n",
       "      <td>{'sgdclassifier__alpha': 0.002, 'sgdclassifier...</td>\n",
       "      <td>0.038515</td>\n",
       "      <td>0.003524</td>\n",
       "      <td>0.019670</td>\n",
       "      <td>0.936140</td>\n",
       "      <td>0.966811</td>\n",
       "    </tr>\n",
       "    <tr>\n",
       "      <th>8</th>\n",
       "      <td>adasyn</td>\n",
       "      <td>rf</td>\n",
       "      <td>{'randomforestclassifier__n_estimators': 100, ...</td>\n",
       "      <td>0.863036</td>\n",
       "      <td>0.047687</td>\n",
       "      <td>0.908413</td>\n",
       "      <td>0.824526</td>\n",
       "      <td>0.969742</td>\n",
       "    </tr>\n",
       "    <tr>\n",
       "      <th>7</th>\n",
       "      <td>adasyn</td>\n",
       "      <td>rf</td>\n",
       "      <td>{'randomforestclassifier__n_estimators': 100, ...</td>\n",
       "      <td>0.861390</td>\n",
       "      <td>0.045283</td>\n",
       "      <td>0.911698</td>\n",
       "      <td>0.819228</td>\n",
       "      <td>0.965342</td>\n",
       "    </tr>\n",
       "    <tr>\n",
       "      <th>3</th>\n",
       "      <td>adasyn</td>\n",
       "      <td>rf</td>\n",
       "      <td>{'randomforestclassifier__n_estimators': 400, ...</td>\n",
       "      <td>0.857738</td>\n",
       "      <td>0.046228</td>\n",
       "      <td>0.903083</td>\n",
       "      <td>0.819228</td>\n",
       "      <td>0.973966</td>\n",
       "    </tr>\n",
       "    <tr>\n",
       "      <th>3</th>\n",
       "      <td>adasyn</td>\n",
       "      <td>xgboost</td>\n",
       "      <td>{'xgbclassifier__reg_lambda': 1, 'xgbclassifie...</td>\n",
       "      <td>0.815107</td>\n",
       "      <td>0.037302</td>\n",
       "      <td>0.806277</td>\n",
       "      <td>0.832421</td>\n",
       "      <td>0.973697</td>\n",
       "    </tr>\n",
       "    <tr>\n",
       "      <th>1</th>\n",
       "      <td>adasyn</td>\n",
       "      <td>xgboost</td>\n",
       "      <td>{'xgbclassifier__reg_lambda': 0.25, 'xgbclassi...</td>\n",
       "      <td>0.801975</td>\n",
       "      <td>0.022817</td>\n",
       "      <td>0.781748</td>\n",
       "      <td>0.829789</td>\n",
       "      <td>0.976969</td>\n",
       "    </tr>\n",
       "    <tr>\n",
       "      <th>6</th>\n",
       "      <td>adasyn</td>\n",
       "      <td>xgboost</td>\n",
       "      <td>{'xgbclassifier__reg_lambda': 0.25, 'xgbclassi...</td>\n",
       "      <td>0.800303</td>\n",
       "      <td>0.036895</td>\n",
       "      <td>0.782008</td>\n",
       "      <td>0.824491</td>\n",
       "      <td>0.976365</td>\n",
       "    </tr>\n",
       "  </tbody>\n",
       "</table>\n",
       "</div>"
      ],
      "text/plain": [
       "       sampler    model                                             params  \\\n",
       "12    smoteenn      svc  {'nystroem__degree': 4, 'nystroem__kernel': 'p...   \n",
       "2     smoteenn      svc  {'nystroem__degree': 5, 'nystroem__kernel': 'p...   \n",
       "4     smoteenn      svc  {'nystroem__degree': 2, 'nystroem__kernel': 'p...   \n",
       "13    smoteenn      log  {'sgdclassifier__alpha': 0.03370630342461173, ...   \n",
       "19    smoteenn      log  {'sgdclassifier__alpha': 0.03492807132736227, ...   \n",
       "1     smoteenn      log  {'sgdclassifier__alpha': 0.015127241738646855,...   \n",
       "13    smoteenn       rf  {'randomforestclassifier__n_estimators': 800, ...   \n",
       "9     smoteenn       rf  {'randomforestclassifier__n_estimators': 100, ...   \n",
       "10    smoteenn       rf  {'randomforestclassifier__n_estimators': 400, ...   \n",
       "3     smoteenn  xgboost  {'xgbclassifier__reg_lambda': 1, 'xgbclassifie...   \n",
       "6     smoteenn  xgboost  {'xgbclassifier__reg_lambda': 0.25, 'xgbclassi...   \n",
       "1     smoteenn  xgboost  {'xgbclassifier__reg_lambda': 0.25, 'xgbclassi...   \n",
       "2   smotetomek      svc  {'nystroem__degree': 5, 'nystroem__kernel': 'p...   \n",
       "9   smotetomek      svc  {'nystroem__degree': 2, 'nystroem__kernel': 'p...   \n",
       "8   smotetomek      svc  {'nystroem__degree': 4, 'nystroem__kernel': 'r...   \n",
       "8   smotetomek      log  {'sgdclassifier__alpha': 0.0001, 'sgdclassifie...   \n",
       "7   smotetomek      log  {'sgdclassifier__alpha': 0.0001, 'sgdclassifie...   \n",
       "9   smotetomek      log  {'sgdclassifier__alpha': 0.001, 'sgdclassifier...   \n",
       "8   smotetomek       rf  {'randomforestclassifier__n_estimators': 100, ...   \n",
       "3   smotetomek       rf  {'randomforestclassifier__n_estimators': 400, ...   \n",
       "6   smotetomek       rf  {'randomforestclassifier__n_estimators': 100, ...   \n",
       "3   smotetomek  xgboost  {'xgbclassifier__reg_lambda': 1, 'xgbclassifie...   \n",
       "1   smotetomek  xgboost  {'xgbclassifier__reg_lambda': 0.25, 'xgbclassi...   \n",
       "6   smotetomek  xgboost  {'xgbclassifier__reg_lambda': 0.25, 'xgbclassi...   \n",
       "5       adasyn      svc  {'nystroem__degree': 3, 'nystroem__kernel': 'p...   \n",
       "9       adasyn      svc  {'nystroem__degree': 2, 'nystroem__kernel': 'p...   \n",
       "7       adasyn      svc  {'nystroem__degree': 2, 'nystroem__kernel': 'r...   \n",
       "0       adasyn      log  {'sgdclassifier__alpha': 0.001, 'sgdclassifier...   \n",
       "2       adasyn      log  {'sgdclassifier__alpha': 0.001, 'sgdclassifier...   \n",
       "4       adasyn      log  {'sgdclassifier__alpha': 0.002, 'sgdclassifier...   \n",
       "8       adasyn       rf  {'randomforestclassifier__n_estimators': 100, ...   \n",
       "7       adasyn       rf  {'randomforestclassifier__n_estimators': 100, ...   \n",
       "3       adasyn       rf  {'randomforestclassifier__n_estimators': 400, ...   \n",
       "3       adasyn  xgboost  {'xgbclassifier__reg_lambda': 1, 'xgbclassifie...   \n",
       "1       adasyn  xgboost  {'xgbclassifier__reg_lambda': 0.25, 'xgbclassi...   \n",
       "6       adasyn  xgboost  {'xgbclassifier__reg_lambda': 0.25, 'xgbclassi...   \n",
       "\n",
       "    mean_test_f1  std_test_f1  mean_test_precision  mean_test_recall  \\\n",
       "12      0.279884     0.042804             0.167214          0.882912   \n",
       "2       0.250992     0.089855             0.150998          0.890947   \n",
       "4       0.188201     0.127690             0.112449          0.848351   \n",
       "13      0.168904     0.010811             0.093296          0.898877   \n",
       "19      0.153781     0.011486             0.084249          0.896246   \n",
       "1       0.139052     0.009479             0.075423          0.901579   \n",
       "13      0.844859     0.038171             0.859800          0.832491   \n",
       "9       0.843065     0.038986             0.859024          0.829825   \n",
       "10      0.842058     0.040173             0.857182          0.829825   \n",
       "3       0.791493     0.028085             0.748082          0.843123   \n",
       "6       0.783364     0.026060             0.743384          0.832526   \n",
       "1       0.779699     0.029425             0.731980          0.837825   \n",
       "2       0.255502     0.080891             0.152301          0.867018   \n",
       "9       0.166491     0.016754             0.092352          0.872316   \n",
       "8       0.082059     0.006171             0.042979          0.912140   \n",
       "8       0.127370     0.010714             0.068613          0.901579   \n",
       "7       0.126802     0.009555             0.068292          0.898912   \n",
       "9       0.119481     0.009477             0.064040          0.898912   \n",
       "8       0.871733     0.042265             0.920992          0.829860   \n",
       "3       0.869219     0.040753             0.915280          0.829860   \n",
       "6       0.865082     0.041048             0.909377          0.827193   \n",
       "3       0.841549     0.034511             0.864063          0.824491   \n",
       "1       0.835806     0.010369             0.849049          0.829860   \n",
       "6       0.830238     0.020573             0.830549          0.835123   \n",
       "5       0.114744     0.102237             0.066689          0.829684   \n",
       "9       0.085582     0.017159             0.045183          0.874912   \n",
       "7       0.078509     0.008076             0.041635          0.702211   \n",
       "0       0.040003     0.004177             0.020450          0.933474   \n",
       "2       0.040003     0.004177             0.020450          0.933474   \n",
       "4       0.038515     0.003524             0.019670          0.936140   \n",
       "8       0.863036     0.047687             0.908413          0.824526   \n",
       "7       0.861390     0.045283             0.911698          0.819228   \n",
       "3       0.857738     0.046228             0.903083          0.819228   \n",
       "3       0.815107     0.037302             0.806277          0.832421   \n",
       "1       0.801975     0.022817             0.781748          0.829789   \n",
       "6       0.800303     0.036895             0.782008          0.824491   \n",
       "\n",
       "    mean_test_roc_auc  \n",
       "12           0.958846  \n",
       "2            0.955923  \n",
       "4            0.928543  \n",
       "13           0.976681  \n",
       "19           0.975838  \n",
       "1            0.973946  \n",
       "13           0.981860  \n",
       "9            0.970792  \n",
       "10           0.982028  \n",
       "3            0.975839  \n",
       "6            0.973766  \n",
       "1            0.976903  \n",
       "2            0.957326  \n",
       "9            0.950418  \n",
       "8            0.974411  \n",
       "8            0.965877  \n",
       "7            0.966018  \n",
       "9            0.969567  \n",
       "8            0.974374  \n",
       "3            0.979592  \n",
       "6            0.975359  \n",
       "3            0.975341  \n",
       "1            0.978407  \n",
       "6            0.977189  \n",
       "5            0.909975  \n",
       "9            0.952043  \n",
       "7            0.960054  \n",
       "0            0.969118  \n",
       "2            0.969118  \n",
       "4            0.966811  \n",
       "8            0.969742  \n",
       "7            0.965342  \n",
       "3            0.973966  \n",
       "3            0.973697  \n",
       "1            0.976969  \n",
       "6            0.976365  "
      ]
     },
     "execution_count": 40,
     "metadata": {},
     "output_type": "execute_result"
    }
   ],
   "source": [
    "top_performers_df"
   ]
  },
  {
   "cell_type": "code",
   "execution_count": 46,
   "metadata": {},
   "outputs": [
    {
     "data": {
      "image/png": "[encoded data removed]",
      "text/plain": [
       "<Figure size 435.625x360 with 1 Axes>"
      ]
     },
     "metadata": {
      "needs_background": "light"
     },
     "output_type": "display_data"
    }
   ],
   "source": [
    "sns.catplot(x=\"sampler\", y=\"mean_test_f1\", hue=\"model\", kind=\"box\", data=top_performers_df)\n",
    "plt.show()"
   ]
  },
  {
   "cell_type": "markdown",
   "metadata": {},
   "source": [
    "We can see, that:\n",
    "1. All samplers performed similarly, without a clear winner visible, but there are some differences depending on the models used.\n",
    "2. `log` and `svc` models haven't worked out at all, that is they've performed significantly worse than other models.\n",
    "\n",
    "Zooming in onto `rf` and `xgboost` models."
   ]
  },
  {
   "cell_type": "code",
   "execution_count": 121,
   "metadata": {},
   "outputs": [
    {
     "data": {
      "image/png": "[encoded data removed]",
      "text/plain": [
       "<Figure size 435.625x360 with 1 Axes>"
      ]
     },
     "metadata": {
      "needs_background": "light"
     },
     "output_type": "display_data"
    }
   ],
   "source": [
    "mask = ((top_performers_df[\"model\"] == \"rf\") | (top_performers_df[\"model\"] == \"xgboost\"))\n",
    "sns.catplot(x=\"sampler\", y=\"mean_test_f1\", hue=\"model\", kind=\"box\", data=top_performers_df[mask])\n",
    "plt.show()"
   ]
  },
  {
   "cell_type": "markdown",
   "metadata": {},
   "source": [
    "Zooming in paints us an interesting picture of Random Forests performing **better** (on average) than Extreme Gradient Boost!     \n",
    "\n",
    "From what internet knowledge tells us, XGBoost can outperform other methods but requires more tinkering with hyperparameters. An exhaustive GridSearchCV might be more suitable if we would try to squeeze the little performance improvement.  \n",
    "**EDIT**: It looks like CSL based XGBoost outperformed CSL based RandomForests. This might also be the culprit (sampling vs cost-sensitive methods).\n",
    "\n",
    "Additionally, above chart uses boxplots of the top three models, not including their respective standard deviation to calculate it's spread. Chart below does."
   ]
  },
  {
   "cell_type": "code",
   "execution_count": 412,
   "metadata": {},
   "outputs": [
    {
     "data": {
      "image/png": "[encoded data removed]",
      "text/plain": [
       "<Figure size 720x360 with 1 Axes>"
      ]
     },
     "metadata": {
      "needs_background": "light"
     },
     "output_type": "display_data"
    }
   ],
   "source": [
    "mask = ((top_performers_df[\"model\"] == \"rf\") | (top_performers_df[\"model\"] == \"xgboost\"))\n",
    "aggregated_df = top_performers_df[mask].groupby([\"sampler\", \"model\"]).mean() \\\n",
    "    .reindex(\n",
    "        pd.MultiIndex.from_product(([\"smoteenn\", \"smotetomek\", \"adasyn\"], [\"rf\", \"xgboost\"]))\n",
    "    )\n",
    "\n",
    "# we're going to assume that the mean and std from the top 3 models\n",
    "# comes from a Gaussian distribution.\n",
    "means = aggregated_df[\"mean_test_f1\"].values\n",
    "sem = aggregated_df[\"std_test_f1\"]/np.sqrt(5) # because 5 folds.\n",
    "# Change this to a t-distribution based CI, which should be 2.78. \n",
    "# Not doing this here because time is of the essence and it isn't cirtical, \n",
    "# but the error bars in CSL methods do have the correct value passed.\n",
    "errors = 1.96*sem \n",
    "\n",
    "fig, ax = plt.subplots(figsize=(10, 5))\n",
    "ax = sns.boxplot(\n",
    "    x=\"sampler\", y=\"mean_test_f1\", hue=\"model\", data=top_performers_df[mask], whis=0, fliersize=0\n",
    ")\n",
    "ax.set_ylim(bottom=0.7, top=0.96)\n",
    "plt.errorbar([-0.2,.2,.8, 1.2, 1.8, 2.2], means, errors, elinewidth=2, capsize=5, fmt=\"none\")\n",
    "plt.tight_layout()"
   ]
  },
  {
   "cell_type": "markdown",
   "metadata": {},
   "source": [
    "We can see here that most of the samples overlap each other within their respective error ranges, meaning, that we can't be sure if anything outdoes other models. \n",
    "\n",
    "The only interesting part here is that based on our samples, smoteenn xgboost performed worse than smotetomek's random forest.\n",
    "It also looks like on average (but still within error) SMOTE with Tomek links cleaning performed better than other models and the close second is ADASYN.\n",
    "\n",
    "Based on the data I'd say the winner for now is Random Forest + SMOTETomek (for sampling based methods)."
   ]
  },
  {
   "cell_type": "markdown",
   "metadata": {
    "toc-hr-collapsed": false
   },
   "source": [
    "### Learning Curves\n",
    "Based on the winning models (RF and XGBoost w/ SMOTETomek sampling) I'm going to plot learning curves to uncover more information."
   ]
  },
  {
   "cell_type": "code",
   "execution_count": 459,
   "metadata": {},
   "outputs": [],
   "source": [
    "# I stole this from the scikit learn's page\n",
    "# https://scikit-learn.org/stable/auto_examples/model_selection/plot_learning_curve.html\n",
    "from scripts.helper_funcs import plot_learning_curve"
   ]
  },
  {
   "cell_type": "markdown",
   "metadata": {},
   "source": [
    "#### Random Forest"
   ]
  },
  {
   "cell_type": "code",
   "execution_count": 472,
   "metadata": {},
   "outputs": [
    {
     "data": {
      "image/png": "[encoded data removed]",
      "text/plain": [
       "<Figure size 432x288 with 1 Axes>"
      ]
     },
     "metadata": {
      "needs_background": "light"
     },
     "output_type": "display_data"
    }
   ],
   "source": [
    "# F1\n",
    "estimator = random_search_results[\"smotetomek\"][\"rf\"].best_estimator_\n",
    "train_sizes, train_scores, test_scores = plot_learning_curve(\n",
    "    estimator, \"SMOTETomek + Random Forest\", X_train, y_train, cv=5, n_jobs=-1, scorer=\"f1\"\n",
    ")\n",
    "plt.show()"
   ]
  },
  {
   "cell_type": "code",
   "execution_count": 484,
   "metadata": {},
   "outputs": [
    {
     "data": {
      "image/png": "[encoded data removed]",
      "text/plain": [
       "<Figure size 432x288 with 1 Axes>"
      ]
     },
     "metadata": {
      "needs_background": "light"
     },
     "output_type": "display_data"
    }
   ],
   "source": [
    "# Log Loss\n",
    "estimator = random_search_results[\"smotetomek\"][\"rf\"].best_estimator_\n",
    "train_sizes, train_scores, test_scores = plot_learning_curve(\n",
    "    estimator, \"SMOTETomek + Random Forest\", X_train, y_train, cv=5, n_jobs=-1, scorer=\"neg_log_loss\"\n",
    ")\n",
    "plt.show()"
   ]
  },
  {
   "cell_type": "code",
   "execution_count": 506,
   "metadata": {},
   "outputs": [
    {
     "data": {
      "image/png": "[encoded data removed]",
      "text/plain": [
       "<Figure size 432x288 with 1 Axes>"
      ]
     },
     "metadata": {
      "needs_background": "light"
     },
     "output_type": "display_data"
    }
   ],
   "source": [
    "# zero_one_loss. Added after log_loss wasn't achievable in XGBoost.\n",
    "estimator = random_search_results[\"smotetomek\"][\"rf\"].best_estimator_\n",
    "train_sizes, train_scores, test_scores = plot_learning_curve(\n",
    "    estimator, \"SMOTETomek + Random Forest\", X_train, y_train, cv=5, n_jobs=-1, \n",
    "    scorer=make_scorer(zero_one_loss, greater_is_better=False)\n",
    ")\n",
    "plt.show()"
   ]
  },
  {
   "cell_type": "markdown",
   "metadata": {},
   "source": [
    "Summary: Looks like it still could gain some benefit from a larger sample size, as depicted by the F1 and loss curves. In both plots the trend is positive."
   ]
  },
  {
   "cell_type": "markdown",
   "metadata": {},
   "source": [
    "#### XGBoost"
   ]
  },
  {
   "cell_type": "code",
   "execution_count": 485,
   "metadata": {},
   "outputs": [
    {
     "data": {
      "image/png": "[encoded data removed]",
      "text/plain": [
       "<Figure size 432x288 with 1 Axes>"
      ]
     },
     "metadata": {
      "needs_background": "light"
     },
     "output_type": "display_data"
    }
   ],
   "source": [
    "# F1\n",
    "estimator = random_search_results[\"smotetomek\"][\"xgboost\"].best_estimator_\n",
    "train_sizes, train_scores, test_scores = plot_learning_curve(\n",
    "    estimator, \"SMOTETomek + XGBoost\", X_train, y_train, cv=5, n_jobs=-1, scorer=\"f1\"\n",
    ")\n",
    "plt.show()"
   ]
  },
  {
   "cell_type": "markdown",
   "metadata": {},
   "source": [
    "**NOTE:** I made a slight mistake with naming this plot - it should be named XGBoost instead of Random Forest. Not re-running it due to the time it takes to get results."
   ]
  },
  {
   "cell_type": "code",
   "execution_count": 502,
   "metadata": {},
   "outputs": [
    {
     "data": {
      "image/png": "[encoded data removed]",
      "text/plain": [
       "<Figure size 432x288 with 1 Axes>"
      ]
     },
     "metadata": {
      "needs_background": "light"
     },
     "output_type": "display_data"
    }
   ],
   "source": [
    "# Log Loss isn't available as this returns too many values that invalid for it to compute (zero's and maybe NaN's?)\n",
    "# going for zero_one_loss\n",
    "estimator = random_search_results[\"smotetomek\"][\"xgboost\"].best_estimator_\n",
    "train_sizes, train_scores, test_scores = plot_learning_curve(\n",
    "    estimator, \"SMOTETomek + XGBoost\", X_train[:-1], y_train[:-1], cv=5, n_jobs=-1, \n",
    "    scorer=make_scorer(zero_one_loss, greater_is_better=False)\n",
    ")\n",
    "plt.show()"
   ]
  },
  {
   "cell_type": "markdown",
   "metadata": {},
   "source": [
    "Looking at those two charts above we can say that it, like with Random Forests, the trend is positive for the cross-validation score. Meaning, that if maybe we had more data the model's prediction would be better."
   ]
  },
  {
   "cell_type": "markdown",
   "metadata": {},
   "source": [
    "#### Precision/Recall comparison"
   ]
  },
  {
   "cell_type": "code",
   "execution_count": 528,
   "metadata": {},
   "outputs": [
    {
     "data": {
      "text/html": [
       "<div>\n",
       "<style scoped>\n",
       "    .dataframe tbody tr th:only-of-type {\n",
       "        vertical-align: middle;\n",
       "    }\n",
       "\n",
       "    .dataframe tbody tr th {\n",
       "        vertical-align: top;\n",
       "    }\n",
       "\n",
       "    .dataframe thead th {\n",
       "        text-align: right;\n",
       "    }\n",
       "</style>\n",
       "<table border=\"1\" class=\"dataframe\">\n",
       "  <thead>\n",
       "    <tr style=\"text-align: right;\">\n",
       "      <th></th>\n",
       "      <th></th>\n",
       "      <th>mean_test_f1</th>\n",
       "      <th>mean_test_precision</th>\n",
       "      <th>mean_test_recall</th>\n",
       "    </tr>\n",
       "    <tr>\n",
       "      <th>sampler</th>\n",
       "      <th>model</th>\n",
       "      <th></th>\n",
       "      <th></th>\n",
       "      <th></th>\n",
       "    </tr>\n",
       "  </thead>\n",
       "  <tbody>\n",
       "    <tr>\n",
       "      <th rowspan=\"6\" valign=\"top\">smotetomek</th>\n",
       "      <th>rf</th>\n",
       "      <td>0.871733</td>\n",
       "      <td>0.920992</td>\n",
       "      <td>0.829860</td>\n",
       "    </tr>\n",
       "    <tr>\n",
       "      <th>rf</th>\n",
       "      <td>0.869219</td>\n",
       "      <td>0.915280</td>\n",
       "      <td>0.829860</td>\n",
       "    </tr>\n",
       "    <tr>\n",
       "      <th>rf</th>\n",
       "      <td>0.865082</td>\n",
       "      <td>0.909377</td>\n",
       "      <td>0.827193</td>\n",
       "    </tr>\n",
       "    <tr>\n",
       "      <th>xgboost</th>\n",
       "      <td>0.841549</td>\n",
       "      <td>0.864063</td>\n",
       "      <td>0.824491</td>\n",
       "    </tr>\n",
       "    <tr>\n",
       "      <th>xgboost</th>\n",
       "      <td>0.835806</td>\n",
       "      <td>0.849049</td>\n",
       "      <td>0.829860</td>\n",
       "    </tr>\n",
       "    <tr>\n",
       "      <th>xgboost</th>\n",
       "      <td>0.830238</td>\n",
       "      <td>0.830549</td>\n",
       "      <td>0.835123</td>\n",
       "    </tr>\n",
       "  </tbody>\n",
       "</table>\n",
       "</div>"
      ],
      "text/plain": [
       "                    mean_test_f1  mean_test_precision  mean_test_recall\n",
       "sampler    model                                                       \n",
       "smotetomek rf           0.871733             0.920992          0.829860\n",
       "           rf           0.869219             0.915280          0.829860\n",
       "           rf           0.865082             0.909377          0.827193\n",
       "           xgboost      0.841549             0.864063          0.824491\n",
       "           xgboost      0.835806             0.849049          0.829860\n",
       "           xgboost      0.830238             0.830549          0.835123"
      ]
     },
     "execution_count": 528,
     "metadata": {},
     "output_type": "execute_result"
    }
   ],
   "source": [
    "mask = ((top_performers_df[\"sampler\"] == \"smotetomek\") & ((top_performers_df[\"model\"] == \"rf\") | (top_performers_df[\"model\"] == \"xgboost\")))\n",
    "top_performers_df[mask][[\"sampler\", \"model\", \"mean_test_f1\", \"mean_test_precision\", \"mean_test_recall\"]].set_index([\"sampler\", \"model\"])"
   ]
  },
  {
   "cell_type": "markdown",
   "metadata": {},
   "source": [
    "Looks like the recall scores are very comparable between the top 3 Random Forest models and top 3 XGBoost models. The only difference is in the precision score.\n",
    "Honestly, a more important metric for us is recall, as we're interested more in avoiding False Negatives. But due to it being comparable, we'll go with RF models as the increase in Precision is much better.\n",
    "\n",
    "**EDIT**: It would be a good idea to run Precision-Recall curves (or just take AUC from them) to select the best model out of the bunch, but due to time constraints, I'm gonna leave this evaluation for the last competing models. For now, I'm just gonna take the model with highest F1 score, which is not ideal, but it's \"good enough\" for now."
   ]
  },
  {
   "cell_type": "markdown",
   "metadata": {},
   "source": [
    "## Summary\n",
    "Overall, looks like the SMOTETomek + RandomForest had a better head start and (on current dataset) has better scores. But the difference isn't too big.\n",
    "I'm really intrigued by the the fact that RandomForest outperformed XGBoost. But from what I could gather this may be attributed to hyperpamater tuning, as well tuned XGBoost algorithm typically outperforms other models.\n",
    "\n",
    "The only thing left (beside doing the cost-sensitive learning part) is validating the model score on the held out test data, while being fitted to the training data."
   ]
  },
  {
   "cell_type": "markdown",
   "metadata": {
    "toc-hr-collapsed": true
   },
   "source": [
    "# Cost-sensitive learning methods\n",
    "\n",
    "In this section I'm going to abandon the sampling methods for imbalanced datasets and focus on cost-sensitive learning approach, where the models will be focused on assigning more weight to misclassified minority class."
   ]
  },
  {
   "cell_type": "code",
   "execution_count": 3,
   "metadata": {},
   "outputs": [],
   "source": [
    "from collections import namedtuple\n",
    "\n",
    "# Instantiate the metrics we're gonna use in randomized search\n",
    "scorers = (\"precision\", \"recall\", \"f1\")\n",
    "\n",
    "Classifier = namedtuple(\"Classifier\", [\"name\", \"model\", \"params\"])\n",
    "# Instantiate classifiers in a list for iterating over it\n",
    "classifiers = [\n",
    "    # Both svc and log are based off of the SGD classifier.\n",
    "    Classifier(\n",
    "        name = \"svc\", \n",
    "        model = SGDClassifier(random_state=RANDOM_STATE, max_iter=1000, verbose=False,\n",
    "                              class_weight=\"balanced\"),\n",
    "        params = {\n",
    "            \"sgdclassifier__loss\": [\"hinge\", \"modified_huber\", \"squared_hinge\"],\n",
    "            \"sgdclassifier__penalty\": [\"elasticnet\", \"l2\", \"l1\"],\n",
    "            \"sgdclassifier__alpha\": scipy.stats.expon(scale=0.01),\n",
    "            \"sgdclassifier__l1_ratio\": scipy.stats.uniform(0, 0.5),\n",
    "            # SVC will use Nystroem for kernel approx.\n",
    "            \"nystroem__kernel\": [\"rbf\", \"polynomial\"],\n",
    "            \"nystroem__n_components\": [100, 200, 400, 600],\n",
    "            \"nystroem__degree\": [1,2,3,4,5]\n",
    "        }\n",
    "    ),\n",
    "    Classifier(\n",
    "        name = \"log\",\n",
    "        model = SGDClassifier(loss=\"log\", random_state=RANDOM_STATE, \n",
    "                              max_iter=1000, verbose=False, class_weight=\"balanced\"),\n",
    "        params = {\n",
    "            \"sgdclassifier__penalty\": [\"elasticnet\", \"l2\", \"l1\"],\n",
    "            \"sgdclassifier__alpha\": [0.0001, 0.0005, 0.001, 0.002],\n",
    "            \"sgdclassifier__l1_ratio\": scipy.stats.uniform(0, 0.5)\n",
    "        }\n",
    "    ),\n",
    "    Classifier(\n",
    "        name = \"rf\",\n",
    "        model = RandomForestClassifier(n_jobs=-1, random_state=RANDOM_STATE, verbose=False,\n",
    "                                       class_weight=\"balanced_subsample\"),\n",
    "        params = {\n",
    "            \"randomforestclassifier__n_estimators\": [10, 100, 400, 800],\n",
    "            \"randomforestclassifier__criterion\": [\"gini\", \"entropy\"],\n",
    "            \"randomforestclassifier__min_samples_split\": [2, 4, 8],\n",
    "            # Not sure which one will prove better\n",
    "            \"randomforestclassifier__class_weight\": [\"balanced_subsample\", \"balanced\"]\n",
    "        }\n",
    "    ),\n",
    "    Classifier(\n",
    "        name = \"xgboost\",\n",
    "        model = XGBClassifier(n_jobs=-1, random_state=RANDOM_STATE, verbosity=0,\n",
    "                              scale_pos_weight=578), # sum(neg) / sum(pos)\n",
    "        params = {\n",
    "            \"xgbclassifier__max_depth\": [3,6,8,12],\n",
    "            \"xgbclassifier__learning_rate\": [0.1, 0.25, 0.5],\n",
    "            \"xgbclassifier__booster\": [\"gbtree\", \"gblinear\", \"dart\"],\n",
    "            \"xgbclassifier__n_estimators\": [100, 400, 800],\n",
    "            \"xgbclassifier__reg_alpha\": [0, 0.1, 0.25, 0.5, 0.75, 1],\n",
    "            \"xgbclassifier__reg_lambda\": [0, 0.1, 0.25, 0.5, 0.75, 1],\n",
    "            \"xgbclassifier__min_child_weight\": [0.5,1,2,4,8,10]\n",
    "        }\n",
    "    )\n",
    "]\n",
    "\n",
    "feature_map_nystroem = Nystroem(random_state=RANDOM_STATE)"
   ]
  },
  {
   "cell_type": "code",
   "execution_count": 4,
   "metadata": {},
   "outputs": [],
   "source": [
    "# csl_random_search_results = {}\n",
    "csl_random_search_results = load(\"data/csl_random_search_results.joblib\")"
   ]
  },
  {
   "cell_type": "code",
   "execution_count": 6,
   "metadata": {},
   "outputs": [
    {
     "name": "stdout",
     "output_type": "stream",
     "text": [
      "Adding Nystroem kernel approximation...\n",
      "Starting svc...\n",
      "Finished svc...\n",
      "----------------\n",
      "Starting log...\n",
      "Finished log...\n",
      "----------------\n",
      "Starting rf...\n",
      "Finished rf...\n",
      "----------------\n",
      "Starting xgboost...\n",
      "Finished xgboost...\n",
      "----------------\n"
     ]
    },
    {
     "data": {
      "text/plain": [
       "['data/csl_random_search_results.joblib']"
      ]
     },
     "execution_count": 6,
     "metadata": {},
     "output_type": "execute_result"
    }
   ],
   "source": [
    "# Iterate over all models and save output to a dict for later review and comparison\n",
    "# We're going also to review the best models' (2-3) learning curves for finding any easy fixes.\n",
    "for clf in classifiers:\n",
    "\n",
    "    imb_pipeline = imb_make_pipeline(\n",
    "            clf.model, \n",
    "            memory=\"temp\"\n",
    "        )\n",
    "\n",
    "    if any(\"nystroem__\" in name for name in clf.params):\n",
    "        print(\"Adding Nystroem kernel approximation...\")\n",
    "        imb_pipeline.steps.insert(0, (\"nystroem\", feature_map_nystroem))\n",
    "\n",
    "    random_search = RandomizedSearchCV(\n",
    "        imb_pipeline, \n",
    "        clf.params,\n",
    "        n_iter=10, \n",
    "        refit=\"f1\", \n",
    "        scoring=scorers,\n",
    "        n_jobs=10,  \n",
    "        iid=False, \n",
    "        cv=5, \n",
    "        verbose=False,\n",
    "        random_state=RANDOM_STATE\n",
    "    )\n",
    "\n",
    "    print(f\"Starting {clf.name}...\")\n",
    "    random_search.fit(X_train, y_train)\n",
    "\n",
    "    csl_random_search_results[clf.name] = random_search\n",
    "    # Intermediate dumps, just for when something goes wrong and we don't\n",
    "    # want to repeat the whole thing.\n",
    "    dump(csl_random_search_results, \"data/csl_random_search_results.joblib\")\n",
    "\n",
    "    print(f\"Finished {clf.name}...\")\n",
    "    print(\"----------------\")\n",
    "    \n",
    "dump(csl_random_search_results, \"data/csl_random_search_results.joblib\")"
   ]
  },
  {
   "cell_type": "markdown",
   "metadata": {},
   "source": [
    "That was DEFINITELY much quicker."
   ]
  },
  {
   "cell_type": "code",
   "execution_count": 10,
   "metadata": {},
   "outputs": [],
   "source": [
    "csl_model_performance_list = []\n",
    "for model in csl_random_search_results.keys():\n",
    "\n",
    "    temp_df = pd.DataFrame(csl_random_search_results[model].cv_results_)[\n",
    "        [\"params\",\n",
    "         \"mean_test_f1\", \n",
    "         \"std_test_f1\", \n",
    "         \"mean_test_precision\", \n",
    "         \"mean_test_recall\"]\n",
    "    ] \\\n",
    "    .sort_values(\"mean_test_f1\", ascending=False) \\\n",
    "    .head(3) \\\n",
    "\n",
    "    temp_df.insert(0, \"model\", model)\n",
    "\n",
    "    csl_model_performance_list.append(temp_df)\n",
    "\n",
    "csl_top_performers_df = csl_model_performance_list.pop(0)\n",
    "csl_top_performers_df = csl_top_performers_df.append(csl_model_performance_list)"
   ]
  },
  {
   "cell_type": "code",
   "execution_count": 11,
   "metadata": {},
   "outputs": [
    {
     "data": {
      "text/html": [
       "<div>\n",
       "<style scoped>\n",
       "    .dataframe tbody tr th:only-of-type {\n",
       "        vertical-align: middle;\n",
       "    }\n",
       "\n",
       "    .dataframe tbody tr th {\n",
       "        vertical-align: top;\n",
       "    }\n",
       "\n",
       "    .dataframe thead th {\n",
       "        text-align: right;\n",
       "    }\n",
       "</style>\n",
       "<table border=\"1\" class=\"dataframe\">\n",
       "  <thead>\n",
       "    <tr style=\"text-align: right;\">\n",
       "      <th></th>\n",
       "      <th>model</th>\n",
       "      <th>params</th>\n",
       "      <th>mean_test_f1</th>\n",
       "      <th>std_test_f1</th>\n",
       "      <th>mean_test_precision</th>\n",
       "      <th>mean_test_recall</th>\n",
       "    </tr>\n",
       "  </thead>\n",
       "  <tbody>\n",
       "    <tr>\n",
       "      <th>6</th>\n",
       "      <td>svc</td>\n",
       "      <td>{'nystroem__degree': 5, 'nystroem__kernel': 'r...</td>\n",
       "      <td>0.067025</td>\n",
       "      <td>0.007288</td>\n",
       "      <td>0.034813</td>\n",
       "      <td>0.920105</td>\n",
       "    </tr>\n",
       "    <tr>\n",
       "      <th>8</th>\n",
       "      <td>svc</td>\n",
       "      <td>{'nystroem__degree': 4, 'nystroem__kernel': 'r...</td>\n",
       "      <td>0.065053</td>\n",
       "      <td>0.013718</td>\n",
       "      <td>0.033803</td>\n",
       "      <td>0.920105</td>\n",
       "    </tr>\n",
       "    <tr>\n",
       "      <th>9</th>\n",
       "      <td>svc</td>\n",
       "      <td>{'nystroem__degree': 2, 'nystroem__kernel': 'p...</td>\n",
       "      <td>0.059433</td>\n",
       "      <td>0.027251</td>\n",
       "      <td>0.030996</td>\n",
       "      <td>0.885754</td>\n",
       "    </tr>\n",
       "    <tr>\n",
       "      <th>1</th>\n",
       "      <td>log</td>\n",
       "      <td>{'sgdclassifier__alpha': 0.001, 'sgdclassifier...</td>\n",
       "      <td>0.112080</td>\n",
       "      <td>0.023032</td>\n",
       "      <td>0.059913</td>\n",
       "      <td>0.912246</td>\n",
       "    </tr>\n",
       "    <tr>\n",
       "      <th>9</th>\n",
       "      <td>log</td>\n",
       "      <td>{'sgdclassifier__alpha': 0.001, 'sgdclassifier...</td>\n",
       "      <td>0.111573</td>\n",
       "      <td>0.033315</td>\n",
       "      <td>0.059708</td>\n",
       "      <td>0.906912</td>\n",
       "    </tr>\n",
       "    <tr>\n",
       "      <th>5</th>\n",
       "      <td>log</td>\n",
       "      <td>{'sgdclassifier__alpha': 0.0005, 'sgdclassifie...</td>\n",
       "      <td>0.096607</td>\n",
       "      <td>0.016969</td>\n",
       "      <td>0.051185</td>\n",
       "      <td>0.901614</td>\n",
       "    </tr>\n",
       "    <tr>\n",
       "      <th>3</th>\n",
       "      <td>rf</td>\n",
       "      <td>{'randomforestclassifier__n_estimators': 800, ...</td>\n",
       "      <td>0.850926</td>\n",
       "      <td>0.048766</td>\n",
       "      <td>0.956510</td>\n",
       "      <td>0.768772</td>\n",
       "    </tr>\n",
       "    <tr>\n",
       "      <th>1</th>\n",
       "      <td>rf</td>\n",
       "      <td>{'randomforestclassifier__n_estimators': 10, '...</td>\n",
       "      <td>0.849402</td>\n",
       "      <td>0.037301</td>\n",
       "      <td>0.950626</td>\n",
       "      <td>0.768737</td>\n",
       "    </tr>\n",
       "    <tr>\n",
       "      <th>7</th>\n",
       "      <td>rf</td>\n",
       "      <td>{'randomforestclassifier__n_estimators': 800, ...</td>\n",
       "      <td>0.849070</td>\n",
       "      <td>0.051025</td>\n",
       "      <td>0.956251</td>\n",
       "      <td>0.766105</td>\n",
       "    </tr>\n",
       "    <tr>\n",
       "      <th>1</th>\n",
       "      <td>xgboost</td>\n",
       "      <td>{'xgbclassifier__reg_lambda': 0.25, 'xgbclassi...</td>\n",
       "      <td>0.868989</td>\n",
       "      <td>0.032873</td>\n",
       "      <td>0.928524</td>\n",
       "      <td>0.819193</td>\n",
       "    </tr>\n",
       "    <tr>\n",
       "      <th>2</th>\n",
       "      <td>xgboost</td>\n",
       "      <td>{'xgbclassifier__reg_lambda': 0.25, 'xgbclassi...</td>\n",
       "      <td>0.863521</td>\n",
       "      <td>0.035350</td>\n",
       "      <td>0.922448</td>\n",
       "      <td>0.813860</td>\n",
       "    </tr>\n",
       "    <tr>\n",
       "      <th>7</th>\n",
       "      <td>xgboost</td>\n",
       "      <td>{'xgbclassifier__reg_lambda': 0.1, 'xgbclassif...</td>\n",
       "      <td>0.861422</td>\n",
       "      <td>0.035161</td>\n",
       "      <td>0.904033</td>\n",
       "      <td>0.824491</td>\n",
       "    </tr>\n",
       "  </tbody>\n",
       "</table>\n",
       "</div>"
      ],
      "text/plain": [
       "     model                                             params  mean_test_f1  \\\n",
       "6      svc  {'nystroem__degree': 5, 'nystroem__kernel': 'r...      0.067025   \n",
       "8      svc  {'nystroem__degree': 4, 'nystroem__kernel': 'r...      0.065053   \n",
       "9      svc  {'nystroem__degree': 2, 'nystroem__kernel': 'p...      0.059433   \n",
       "1      log  {'sgdclassifier__alpha': 0.001, 'sgdclassifier...      0.112080   \n",
       "9      log  {'sgdclassifier__alpha': 0.001, 'sgdclassifier...      0.111573   \n",
       "5      log  {'sgdclassifier__alpha': 0.0005, 'sgdclassifie...      0.096607   \n",
       "3       rf  {'randomforestclassifier__n_estimators': 800, ...      0.850926   \n",
       "1       rf  {'randomforestclassifier__n_estimators': 10, '...      0.849402   \n",
       "7       rf  {'randomforestclassifier__n_estimators': 800, ...      0.849070   \n",
       "1  xgboost  {'xgbclassifier__reg_lambda': 0.25, 'xgbclassi...      0.868989   \n",
       "2  xgboost  {'xgbclassifier__reg_lambda': 0.25, 'xgbclassi...      0.863521   \n",
       "7  xgboost  {'xgbclassifier__reg_lambda': 0.1, 'xgbclassif...      0.861422   \n",
       "\n",
       "   std_test_f1  mean_test_precision  mean_test_recall  \n",
       "6     0.007288             0.034813          0.920105  \n",
       "8     0.013718             0.033803          0.920105  \n",
       "9     0.027251             0.030996          0.885754  \n",
       "1     0.023032             0.059913          0.912246  \n",
       "9     0.033315             0.059708          0.906912  \n",
       "5     0.016969             0.051185          0.901614  \n",
       "3     0.048766             0.956510          0.768772  \n",
       "1     0.037301             0.950626          0.768737  \n",
       "7     0.051025             0.956251          0.766105  \n",
       "1     0.032873             0.928524          0.819193  \n",
       "2     0.035350             0.922448          0.813860  \n",
       "7     0.035161             0.904033          0.824491  "
      ]
     },
     "execution_count": 11,
     "metadata": {},
     "output_type": "execute_result"
    }
   ],
   "source": [
    "csl_top_performers_df"
   ]
  },
  {
   "cell_type": "markdown",
   "metadata": {},
   "source": [
    "We can already clearly see that we're dealing with similar performance as in the sampling based methods. We're going to focus on RF and XGBoost from now on, as Stochastic Gradient Descent methods proved to be highly ineffective, as shown by the F1 score."
   ]
  },
  {
   "cell_type": "code",
   "execution_count": 19,
   "metadata": {},
   "outputs": [
    {
     "data": {
      "image/png": "[encoded data removed]",
      "text/plain": [
       "<Figure size 720x360 with 1 Axes>"
      ]
     },
     "metadata": {
      "needs_background": "light"
     },
     "output_type": "display_data"
    }
   ],
   "source": [
    "mask = ((csl_top_performers_df[\"model\"] == \"rf\") | (csl_top_performers_df[\"model\"] == \"xgboost\"))\n",
    "aggregated_df = csl_top_performers_df[mask].groupby(\"model\").mean()\n",
    "\n",
    "# we're going to assume that the mean and std from the top 3 models\n",
    "# comes from a Gaussian distribution.\n",
    "means = aggregated_df[\"mean_test_f1\"].values\n",
    "sem = aggregated_df[\"std_test_f1\"]/np.sqrt(5) # because 5 folds.\n",
    "errors = 2.78*sem\n",
    "\n",
    "fig, ax = plt.subplots(figsize=(10, 5))\n",
    "ax = sns.boxplot(\n",
    "    x=\"model\", y=\"mean_test_f1\", data=csl_top_performers_df[mask], whis=0, fliersize=0\n",
    ")\n",
    "\n",
    "# we're going to assume that the mean and std from the top 3 models\n",
    "# comes from a Gaussian distribution.\n",
    "means = aggregated_df[\"mean_test_f1\"].values\n",
    "sem = aggregated_df[\"std_test_f1\"]/np.sqrt(5) # because 5 folds.\n",
    "errors = 1.96*sem # < change this to a t-distribution based CI\n",
    "\n",
    "ax.set_ylim(bottom=0.78, top=0.90)\n",
    "plt.errorbar([0, 1], means, errors, elinewidth=2, capsize=5, fmt=\"none\")\n",
    "plt.tight_layout()"
   ]
  },
  {
   "cell_type": "markdown",
   "metadata": {},
   "source": [
    "No difference between those models it looks like."
   ]
  },
  {
   "cell_type": "markdown",
   "metadata": {},
   "source": [
    "## Learning Curves\n",
    "I've modified the script a bit to display both loss and score learning curves side by side."
   ]
  },
  {
   "cell_type": "code",
   "execution_count": 33,
   "metadata": {},
   "outputs": [],
   "source": [
    "from scripts.helper_funcs import plot_learning_curves"
   ]
  },
  {
   "cell_type": "code",
   "execution_count": 42,
   "metadata": {},
   "outputs": [
    {
     "data": {
      "image/png": "[encoded data removed]",
      "text/plain": [
       "<Figure size 1440x360 with 2 Axes>"
      ]
     },
     "metadata": {
      "needs_background": "light"
     },
     "output_type": "display_data"
    }
   ],
   "source": [
    "estimator = csl_random_search_results[\"rf\"].best_estimator_\n",
    "plot_learning_curves(estimator, \"Random Forest\", X_train, y_train)"
   ]
  },
  {
   "cell_type": "code",
   "execution_count": 43,
   "metadata": {},
   "outputs": [
    {
     "data": {
      "image/png": "[encoded data removed]",
      "text/plain": [
       "<Figure size 1440x360 with 2 Axes>"
      ]
     },
     "metadata": {
      "needs_background": "light"
     },
     "output_type": "display_data"
    }
   ],
   "source": [
    "estimator = csl_random_search_results[\"xgboost\"].best_estimator_\n",
    "plot_learning_curves(estimator, \"XGBoost\", X_train, y_train)"
   ]
  },
  {
   "cell_type": "markdown",
   "metadata": {},
   "source": [
    "It looks like, just like with the models which also used sampling, that the trend is also positive, albeit it plateus harder. \n",
    "Also, Random Forest generally has a higher standard deviation in-between the validation scores."
   ]
  },
  {
   "cell_type": "markdown",
   "metadata": {},
   "source": [
    "### Precision/Recall comparison"
   ]
  },
  {
   "cell_type": "code",
   "execution_count": 45,
   "metadata": {},
   "outputs": [
    {
     "data": {
      "text/html": [
       "<div>\n",
       "<style scoped>\n",
       "    .dataframe tbody tr th:only-of-type {\n",
       "        vertical-align: middle;\n",
       "    }\n",
       "\n",
       "    .dataframe tbody tr th {\n",
       "        vertical-align: top;\n",
       "    }\n",
       "\n",
       "    .dataframe thead th {\n",
       "        text-align: right;\n",
       "    }\n",
       "</style>\n",
       "<table border=\"1\" class=\"dataframe\">\n",
       "  <thead>\n",
       "    <tr style=\"text-align: right;\">\n",
       "      <th></th>\n",
       "      <th>mean_test_f1</th>\n",
       "      <th>mean_test_precision</th>\n",
       "      <th>mean_test_recall</th>\n",
       "    </tr>\n",
       "    <tr>\n",
       "      <th>model</th>\n",
       "      <th></th>\n",
       "      <th></th>\n",
       "      <th></th>\n",
       "    </tr>\n",
       "  </thead>\n",
       "  <tbody>\n",
       "    <tr>\n",
       "      <th>rf</th>\n",
       "      <td>0.850926</td>\n",
       "      <td>0.956510</td>\n",
       "      <td>0.768772</td>\n",
       "    </tr>\n",
       "    <tr>\n",
       "      <th>rf</th>\n",
       "      <td>0.849402</td>\n",
       "      <td>0.950626</td>\n",
       "      <td>0.768737</td>\n",
       "    </tr>\n",
       "    <tr>\n",
       "      <th>rf</th>\n",
       "      <td>0.849070</td>\n",
       "      <td>0.956251</td>\n",
       "      <td>0.766105</td>\n",
       "    </tr>\n",
       "    <tr>\n",
       "      <th>xgboost</th>\n",
       "      <td>0.868989</td>\n",
       "      <td>0.928524</td>\n",
       "      <td>0.819193</td>\n",
       "    </tr>\n",
       "    <tr>\n",
       "      <th>xgboost</th>\n",
       "      <td>0.863521</td>\n",
       "      <td>0.922448</td>\n",
       "      <td>0.813860</td>\n",
       "    </tr>\n",
       "    <tr>\n",
       "      <th>xgboost</th>\n",
       "      <td>0.861422</td>\n",
       "      <td>0.904033</td>\n",
       "      <td>0.824491</td>\n",
       "    </tr>\n",
       "  </tbody>\n",
       "</table>\n",
       "</div>"
      ],
      "text/plain": [
       "         mean_test_f1  mean_test_precision  mean_test_recall\n",
       "model                                                       \n",
       "rf           0.850926             0.956510          0.768772\n",
       "rf           0.849402             0.950626          0.768737\n",
       "rf           0.849070             0.956251          0.766105\n",
       "xgboost      0.868989             0.928524          0.819193\n",
       "xgboost      0.863521             0.922448          0.813860\n",
       "xgboost      0.861422             0.904033          0.824491"
      ]
     },
     "execution_count": 45,
     "metadata": {},
     "output_type": "execute_result"
    }
   ],
   "source": [
    "mask = ((csl_top_performers_df[\"model\"] == \"rf\") | (csl_top_performers_df[\"model\"] == \"xgboost\"))\n",
    "csl_top_performers_df[mask][[\"model\", \"mean_test_f1\", \"mean_test_precision\", \"mean_test_recall\"]].set_index(\"model\")"
   ]
  },
  {
   "cell_type": "markdown",
   "metadata": {},
   "source": [
    "Interesting to note, that while the Recall score in-between model difference in models that utilized sampling methods was none, here it is much more pronounced.   \n",
    "\n",
    "XGBoost is better at handling False Negatives than Random Forest with CSL based tehcniques. The only thing it's slightly worse is with Precision, which isn't as important.  \n",
    "The scores of the best XGBoost method is very close to that of the best RF with SMOTE+Tomek."
   ]
  },
  {
   "cell_type": "markdown",
   "metadata": {},
   "source": [
    "### Summary"
   ]
  },
  {
   "cell_type": "markdown",
   "metadata": {},
   "source": [
    "In the case of cost-sensitive learning based handling of imbalanced datasets, the winner is XGBoost.  \n",
    "I will compare SMOTE+Tomek Random Forests with CSL XGBoost on the test datasets."
   ]
  },
  {
   "cell_type": "markdown",
   "metadata": {},
   "source": [
    "# Final model evaluation\n",
    "Based on the two winners (Random Forest w/ SMOTE+Tomek and XGBoost with scale_pos_weight set) that were determined by Randomized Search and Cross-Validation, we're going to see how they perform on the test set to evaluate their performance and choose the best model.\n",
    "\n",
    "We're gonna use:\n",
    "* F1 Score\n",
    "* Precision-Recall Curve\n",
    "* Average precision score\n",
    "\n",
    "And we're also going to take into the account the learning times."
   ]
  },
  {
   "cell_type": "code",
   "execution_count": 48,
   "metadata": {},
   "outputs": [],
   "source": [
    "X_train = data_dict[\"training\"][0].values\n",
    "y_train = np.ravel(data_dict[\"training\"][1])\n",
    "\n",
    "X_test = data_dict[\"test\"][0].values\n",
    "y_test = np.ravel(data_dict[\"test\"][1])"
   ]
  },
  {
   "cell_type": "code",
   "execution_count": 47,
   "metadata": {},
   "outputs": [],
   "source": [
    "# Get the best model\n",
    "sampling_random_search_results = load(\"data/random_search_results.joblib\")\n",
    "csl_random_search_results = load(\"data/csl_random_search_results.joblib\")\n",
    "\n",
    "best_sampling_rf = sampling_random_search_results[\"smotetomek\"][\"rf\"].best_estimator_\n",
    "best_csl_xgboost = csl_random_search_results[\"xgboost\"].best_estimator_"
   ]
  },
  {
   "cell_type": "code",
   "execution_count": 64,
   "metadata": {},
   "outputs": [
    {
     "name": "stdout",
     "output_type": "stream",
     "text": [
      "Training of Random Forest with SMOTETomek sampling took: 43.75 seconds\n",
      "Training of XGBoost with Cost-sensitive learning took: 54.96 seconds\n"
     ]
    }
   ],
   "source": [
    "from timeit import default_timer as timer\n",
    "\n",
    "rf_start = timer()\n",
    "best_sampling_rf.fit(X_train, y_train)\n",
    "rf_end = timer()\n",
    "print(f\"Training of Random Forest with SMOTETomek sampling took: {(rf_end - rf_start):.2f} seconds\")\n",
    "\n",
    "xgboost_start = timer()\n",
    "best_csl_xgboost.fit(X_train, y_train)\n",
    "xgboost_end = timer()\n",
    "print(f\"Training of XGBoost with Cost-sensitive learning took: {(xgboost_end - xgboost_start):.2f} seconds\")"
   ]
  },
  {
   "cell_type": "markdown",
   "metadata": {},
   "source": [
    "Both classifiers are quite quick to fit on my machine. But please note that in both cases I had for fitting and transforming data.  \n",
    "This means, that although XGBoost was slightly longer, on a new machine the Random Forest with SMOTETomek sampling will take longer, due to the additional step of calculating the SMOTE and Tomek links cleaning."
   ]
  },
  {
   "cell_type": "code",
   "execution_count": 133,
   "metadata": {},
   "outputs": [],
   "source": [
    "best_sampling_rf_y_predict = best_sampling_rf.predict(X_test)\n",
    "best_sampling_rf_y_prob = best_sampling_rf.predict_proba(X_test)\n",
    "\n",
    "best_csl_xgboost_y_predict = best_csl_xgboost.predict(X_test)\n",
    "best_csl_xgboost_y_prob = best_csl_xgboost.predict_proba(X_test)"
   ]
  },
  {
   "cell_type": "code",
   "execution_count": 153,
   "metadata": {},
   "outputs": [
    {
     "name": "stdout",
     "output_type": "stream",
     "text": [
      "For Random Forest with SMOTETomek sampling:\n",
      "--> F1 score: 0.828\n",
      "--> Precision: 0.847\n",
      "--> Recall: 0.810\n",
      "--> Average precision score: 0.870\n",
      "\n",
      "For XGBoost with Cost-sensitive learning:\n",
      "--> F1 score: 0.843\n",
      "--> Precision: 0.879\n",
      "--> Recall: 0.810\n",
      "--> Average precision score: 0.860\n",
      "\n"
     ]
    }
   ],
   "source": [
    "names = [\"Random Forest with SMOTETomek sampling\", \"XGBoost with Cost-sensitive learning\"]\n",
    "predictions = [best_sampling_rf_y_predict, best_csl_xgboost_y_predict]\n",
    "proba = [best_sampling_rf_y_prob, best_csl_xgboost_y_prob]\n",
    "for model_name, y_pred, y_prob in zip(names, predictions, proba):\n",
    "    print(f\"For {model_name}:\")\n",
    "    print(f\"--> F1 score: {f1_score(y_test, y_pred):.3f}\")\n",
    "    print(f\"--> Precision: {precision_score(y_test, y_pred):.3f}\")\n",
    "    print(f\"--> Recall: {recall_score(y_test, y_pred):.3f}\")\n",
    "    print(f\"--> Average precision score: {average_precision_score(y_test, y_prob[:,1]):.3f}\")\n",
    "    print()"
   ]
  },
  {
   "cell_type": "markdown",
   "metadata": {},
   "source": [
    "Based on the final test set, it looks like both models are valid, with XGBoost having a higher F1 and Precision scores (but same Recall score, which was more important than Precision), but slightly less Average Precision, which summarizes the Precision-Recall curve."
   ]
  },
  {
   "cell_type": "code",
   "execution_count": 178,
   "metadata": {},
   "outputs": [
    {
     "data": {
      "image/png": "[encoded data removed]",
      "text/plain": [
       "<Figure size 720x360 with 1 Axes>"
      ]
     },
     "metadata": {
      "needs_background": "light"
     },
     "output_type": "display_data"
    }
   ],
   "source": [
    "fig, ax = plt.subplots(figsize=(10,5))\n",
    "\n",
    "# XGBoost\n",
    "precision, recall, thresh = precision_recall_curve(y_test, best_csl_xgboost_y_prob[:, 1])\n",
    "\n",
    "\n",
    "ax.step(recall, precision, color='b', alpha=0.2,\n",
    "         where='post')\n",
    "ax.fill_between(recall, precision, alpha=0.2, color='b', step='post', \n",
    "                label=f\"XGBoost AP:{average_precision_score(y_test, best_csl_xgboost_y_prob[:,1]):.3f}\")\n",
    "ax.set_xlabel('Recall')\n",
    "ax.set_ylabel('Precision')\n",
    "\n",
    "#RF\n",
    "precision, recall, thresh = precision_recall_curve(y_test, best_sampling_rf_y_prob[:, 1])\n",
    "\n",
    "# plot the precision_recall_curve side by side\n",
    "ax.step(recall, precision, color='b', alpha=0.2,\n",
    "         where='post')\n",
    "ax.fill_between(recall, precision, alpha=0.2, color='g', step='post',\n",
    "                label=f\"RF + Sampling AP:{average_precision_score(y_test, best_sampling_rf_y_prob[:,1]):.3f}\")\n",
    "\n",
    "ax.set_xlabel('Recall')\n",
    "ax.set_ylabel('Precision')\n",
    "plt.title(\"Precision-Recall Curve\")\n",
    "plt.legend()\n",
    "plt.show()"
   ]
  },
  {
   "cell_type": "markdown",
   "metadata": {},
   "source": [
    "# Summary\n",
    "\n",
    "The difference between those two models (Random Forest with SMOTE+Tomek sampling and Cost-sensitive Learning based XGBoost) is really small.\n",
    "On one hand, the Average Precision score (which summarizes the PR curve) is better with Random Forest + SMOTETomek classifier, but it might be a bit slower than XGBoost due to the additional SMOTE+Tomek links step.\n",
    "\n",
    "Also, the F1 score was a bit higher with XGBoost, but this was mainly due to Precision increase, as both models had a Recall of 0.81 on the test dataset.\n",
    "\n",
    "**The winner is Random Forest with SMOTETomek sampling** (based on the AUC of PR curve)"
   ]
  },
  {
   "cell_type": "code",
   "execution_count": 154,
   "metadata": {},
   "outputs": [
    {
     "data": {
      "text/plain": [
       "Pipeline(memory='temp',\n",
       "         steps=[('smotetomek',\n",
       "                 SMOTETomek(n_jobs=-1, random_state=42, ratio=None,\n",
       "                            sampling_strategy='auto', smote=None, tomek=None)),\n",
       "                ('randomforestclassifier',\n",
       "                 RandomForestClassifier(bootstrap=True, class_weight=None,\n",
       "                                        criterion='entropy', max_depth=None,\n",
       "                                        max_features='auto',\n",
       "                                        max_leaf_nodes=None,\n",
       "                                        min_impurity_decrease=0.0,\n",
       "                                        min_impurity_split=None,\n",
       "                                        min_samples_leaf=1, min_samples_split=8,\n",
       "                                        min_weight_fraction_leaf=0.0,\n",
       "                                        n_estimators=100, n_jobs=-1,\n",
       "                                        oob_score=False, random_state=42,\n",
       "                                        verbose=False, warm_start=False))],\n",
       "         verbose=False)"
      ]
     },
     "execution_count": 154,
     "metadata": {},
     "output_type": "execute_result"
    }
   ],
   "source": [
    "best_sampling_rf"
   ]
  }
 ],
 "metadata": {
  "kernelspec": {
   "display_name": "fraud_detection",
   "language": "python",
   "name": "fraud_detection"
  },
  "language_info": {
   "codemirror_mode": {
    "name": "ipython",
    "version": 3
   },
   "file_extension": ".py",
   "mimetype": "text/x-python",
   "name": "python",
   "nbconvert_exporter": "python",
   "pygments_lexer": "ipython3",
   "version": "3.7.4"
  }
 },
 "nbformat": 4,
 "nbformat_minor": 4
}
