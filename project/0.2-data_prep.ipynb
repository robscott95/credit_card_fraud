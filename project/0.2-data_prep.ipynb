{
 "cells": [
  {
   "cell_type": "markdown",
   "metadata": {},
   "source": [
    "# Data Prep\n",
    "Based on the exploratory analysis, I have to:\n",
    "1. Scale the `Amount` feature via RobustScaler.\n",
    "2. Scale the `Time` feature via MinMaxScaler\n",
    "3. Save the scalers and the dataset.\n",
    "    * Those have to be trained on the training dataset and the test dataset has to be transformed on the trained fit."
   ]
  },
  {
   "cell_type": "code",
   "execution_count": 95,
   "metadata": {},
   "outputs": [],
   "source": [
    "import pandas as pd\n",
    "import sklearn as skl\n",
    "from sklearn.model_selection import train_test_split\n",
    "from sklearn import preprocessing\n",
    "from joblib import dump\n",
    "\n",
    "pd.options.mode.chained_assignment = None"
   ]
  },
  {
   "cell_type": "code",
   "execution_count": 90,
   "metadata": {},
   "outputs": [],
   "source": [
    "raw_data_df = pd.read_csv(\"data/creditcard.csv\")\n",
    "\n",
    "X = raw_data_df.iloc[:, :-1]\n",
    "y = raw_data_df.iloc[:, -1:]\n",
    "\n",
    "X_train, X_test, y_train, y_test = train_test_split(X, y)"
   ]
  },
  {
   "cell_type": "code",
   "execution_count": 91,
   "metadata": {},
   "outputs": [],
   "source": [
    "robust_scaler_amount = preprocessing.RobustScaler()\n",
    "X_train[\"Amount\"] = robust_scaler_amount.fit_transform(X_train[\"Amount\"].values.reshape(-1, 1))\n",
    "X_test[\"Amount\"] = robust_scaler_amount.transform(X_test[\"Amount\"].values.reshape(-1, 1))"
   ]
  },
  {
   "cell_type": "code",
   "execution_count": 92,
   "metadata": {},
   "outputs": [],
   "source": [
    "mimnax_scaler_time = preprocessing.MinMaxScaler()\n",
    "X_train[\"Time\"] = mimnax_scaler_time.fit_transform(X_train[\"Time\"].values.reshape(-1, 1))\n",
    "X_test[\"Time\"] = mimnax_scaler_time.transform(X_test[\"Time\"].values.reshape(-1, 1))"
   ]
  },
  {
   "cell_type": "code",
   "execution_count": 93,
   "metadata": {},
   "outputs": [
    {
     "data": {
      "text/plain": [
       "['data/standardizers.joblib']"
      ]
     },
     "execution_count": 93,
     "metadata": {},
     "output_type": "execute_result"
    }
   ],
   "source": [
    "# Save scalers to dictionary for later pickling\n",
    "scalers = {\"Time\": mimnax_scaler_time, \"Amount\": robust_scaler_amount}\n",
    "dump(standardizers, \"data/scalers.joblib\")"
   ]
  },
  {
   "cell_type": "code",
   "execution_count": 94,
   "metadata": {},
   "outputs": [
    {
     "data": {
      "text/plain": [
       "['data/processed_dataset.joblib']"
      ]
     },
     "execution_count": 94,
     "metadata": {},
     "output_type": "execute_result"
    }
   ],
   "source": [
    "# Save the data.\n",
    "data = {\"training\": (X_train, y_train), \"test\": (X_test, y_test)}\n",
    "dump(data, \"data/processed_dataset.joblib\")"
   ]
  }
 ],
 "metadata": {
  "kernelspec": {
   "display_name": "Python 3",
   "language": "python",
   "name": "python3"
  },
  "language_info": {
   "codemirror_mode": {
    "name": "ipython",
    "version": 3
   },
   "file_extension": ".py",
   "mimetype": "text/x-python",
   "name": "python",
   "nbconvert_exporter": "python",
   "pygments_lexer": "ipython3",
   "version": "3.7.4"
  }
 },
 "nbformat": 4,
 "nbformat_minor": 4
}
